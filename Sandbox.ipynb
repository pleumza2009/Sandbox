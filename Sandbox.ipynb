{
  "nbformat": 4,
  "nbformat_minor": 0,
  "metadata": {
    "colab": {
      "name": "Sandbox.ipynb",
      "provenance": [],
      "collapsed_sections": [
        "YUHk-fpc0mio"
      ],
      "toc_visible": true
    },
    "kernelspec": {
      "display_name": "Python 3",
      "name": "python3"
    }
  },
  "cells": [
    {
      "cell_type": "markdown",
      "metadata": {
        "id": "YMMYX04Sv_CY"
      },
      "source": [
        "##รายชื่อสมาชิก Sandbox\n",
        "1. นายพงศ์ธณัช สุนทรพรเลิศ 60130500055\n",
        "2. นางสาวพลอยวริณทร์ อักษรน้ำผึ้ง 60130500059\n",
        "3. นายธนกร เจริญเศรษฐกุล 60130500122"
      ]
    },
    {
      "cell_type": "markdown",
      "metadata": {
        "id": "BE4g8GS-8Exm"
      },
      "source": [
        "#โหลดข้อมูล"
      ]
    },
    {
      "cell_type": "markdown",
      "metadata": {
        "id": "9aM8aMTgsMm-"
      },
      "source": [
        "##import สิ่งที่ต้องใช้"
      ]
    },
    {
      "cell_type": "code",
      "metadata": {
        "id": "Zc1jZtrKltYc"
      },
      "source": [
        "#Data\n",
        "import pandas as pd\n",
        "import numpy as np\n",
        "\n",
        "#Prepocessing\n",
        "from sklearn.preprocessing import LabelEncoder, StandardScaler\n",
        "\n",
        "#visualization\n",
        "from matplotlib import pyplot as plt\n",
        "import seaborn as sns"
      ],
      "execution_count": null,
      "outputs": []
    },
    {
      "cell_type": "markdown",
      "metadata": {
        "id": "jfVVVqsjLMka"
      },
      "source": [
        "##โหลดข้อมูลจาก github"
      ]
    },
    {
      "cell_type": "code",
      "metadata": {
        "colab": {
          "base_uri": "https://localhost:8080/",
          "height": 295
        },
        "id": "ASKPsP2gqo0d",
        "outputId": "722b7c8b-28f8-4bee-c3b8-2eab22eeeee4"
      },
      "source": [
        "#โหลดข้อมูลจาก github ใส่ตัวแปร data\n",
        "data = pd.read_csv(\"https://raw.githubusercontent.com/pleumza2009/MushroomClassificationData/main/mushrooms.csv\")\n",
        "data.head(6)"
      ],
      "execution_count": null,
      "outputs": [
        {
          "output_type": "execute_result",
          "data": {
            "text/html": [
              "<div>\n",
              "<style scoped>\n",
              "    .dataframe tbody tr th:only-of-type {\n",
              "        vertical-align: middle;\n",
              "    }\n",
              "\n",
              "    .dataframe tbody tr th {\n",
              "        vertical-align: top;\n",
              "    }\n",
              "\n",
              "    .dataframe thead th {\n",
              "        text-align: right;\n",
              "    }\n",
              "</style>\n",
              "<table border=\"1\" class=\"dataframe\">\n",
              "  <thead>\n",
              "    <tr style=\"text-align: right;\">\n",
              "      <th></th>\n",
              "      <th>class</th>\n",
              "      <th>cap-shape</th>\n",
              "      <th>cap-surface</th>\n",
              "      <th>cap-color</th>\n",
              "      <th>bruises</th>\n",
              "      <th>odor</th>\n",
              "      <th>gill-attachment</th>\n",
              "      <th>gill-spacing</th>\n",
              "      <th>gill-size</th>\n",
              "      <th>gill-color</th>\n",
              "      <th>stalk-shape</th>\n",
              "      <th>stalk-root</th>\n",
              "      <th>stalk-surface-above-ring</th>\n",
              "      <th>stalk-surface-below-ring</th>\n",
              "      <th>stalk-color-above-ring</th>\n",
              "      <th>stalk-color-below-ring</th>\n",
              "      <th>veil-type</th>\n",
              "      <th>veil-color</th>\n",
              "      <th>ring-number</th>\n",
              "      <th>ring-type</th>\n",
              "      <th>spore-print-color</th>\n",
              "      <th>population</th>\n",
              "      <th>habitat</th>\n",
              "    </tr>\n",
              "  </thead>\n",
              "  <tbody>\n",
              "    <tr>\n",
              "      <th>0</th>\n",
              "      <td>p</td>\n",
              "      <td>x</td>\n",
              "      <td>s</td>\n",
              "      <td>n</td>\n",
              "      <td>t</td>\n",
              "      <td>p</td>\n",
              "      <td>f</td>\n",
              "      <td>c</td>\n",
              "      <td>n</td>\n",
              "      <td>k</td>\n",
              "      <td>e</td>\n",
              "      <td>e</td>\n",
              "      <td>s</td>\n",
              "      <td>s</td>\n",
              "      <td>w</td>\n",
              "      <td>w</td>\n",
              "      <td>p</td>\n",
              "      <td>w</td>\n",
              "      <td>o</td>\n",
              "      <td>p</td>\n",
              "      <td>k</td>\n",
              "      <td>s</td>\n",
              "      <td>u</td>\n",
              "    </tr>\n",
              "    <tr>\n",
              "      <th>1</th>\n",
              "      <td>e</td>\n",
              "      <td>x</td>\n",
              "      <td>s</td>\n",
              "      <td>y</td>\n",
              "      <td>t</td>\n",
              "      <td>a</td>\n",
              "      <td>f</td>\n",
              "      <td>c</td>\n",
              "      <td>b</td>\n",
              "      <td>k</td>\n",
              "      <td>e</td>\n",
              "      <td>c</td>\n",
              "      <td>s</td>\n",
              "      <td>s</td>\n",
              "      <td>w</td>\n",
              "      <td>w</td>\n",
              "      <td>p</td>\n",
              "      <td>w</td>\n",
              "      <td>o</td>\n",
              "      <td>p</td>\n",
              "      <td>n</td>\n",
              "      <td>n</td>\n",
              "      <td>g</td>\n",
              "    </tr>\n",
              "    <tr>\n",
              "      <th>2</th>\n",
              "      <td>e</td>\n",
              "      <td>b</td>\n",
              "      <td>s</td>\n",
              "      <td>w</td>\n",
              "      <td>t</td>\n",
              "      <td>l</td>\n",
              "      <td>f</td>\n",
              "      <td>c</td>\n",
              "      <td>b</td>\n",
              "      <td>n</td>\n",
              "      <td>e</td>\n",
              "      <td>c</td>\n",
              "      <td>s</td>\n",
              "      <td>s</td>\n",
              "      <td>w</td>\n",
              "      <td>w</td>\n",
              "      <td>p</td>\n",
              "      <td>w</td>\n",
              "      <td>o</td>\n",
              "      <td>p</td>\n",
              "      <td>n</td>\n",
              "      <td>n</td>\n",
              "      <td>m</td>\n",
              "    </tr>\n",
              "    <tr>\n",
              "      <th>3</th>\n",
              "      <td>p</td>\n",
              "      <td>x</td>\n",
              "      <td>y</td>\n",
              "      <td>w</td>\n",
              "      <td>t</td>\n",
              "      <td>p</td>\n",
              "      <td>f</td>\n",
              "      <td>c</td>\n",
              "      <td>n</td>\n",
              "      <td>n</td>\n",
              "      <td>e</td>\n",
              "      <td>e</td>\n",
              "      <td>s</td>\n",
              "      <td>s</td>\n",
              "      <td>w</td>\n",
              "      <td>w</td>\n",
              "      <td>p</td>\n",
              "      <td>w</td>\n",
              "      <td>o</td>\n",
              "      <td>p</td>\n",
              "      <td>k</td>\n",
              "      <td>s</td>\n",
              "      <td>u</td>\n",
              "    </tr>\n",
              "    <tr>\n",
              "      <th>4</th>\n",
              "      <td>e</td>\n",
              "      <td>x</td>\n",
              "      <td>s</td>\n",
              "      <td>g</td>\n",
              "      <td>f</td>\n",
              "      <td>n</td>\n",
              "      <td>f</td>\n",
              "      <td>w</td>\n",
              "      <td>b</td>\n",
              "      <td>k</td>\n",
              "      <td>t</td>\n",
              "      <td>e</td>\n",
              "      <td>s</td>\n",
              "      <td>s</td>\n",
              "      <td>w</td>\n",
              "      <td>w</td>\n",
              "      <td>p</td>\n",
              "      <td>w</td>\n",
              "      <td>o</td>\n",
              "      <td>e</td>\n",
              "      <td>n</td>\n",
              "      <td>a</td>\n",
              "      <td>g</td>\n",
              "    </tr>\n",
              "    <tr>\n",
              "      <th>5</th>\n",
              "      <td>e</td>\n",
              "      <td>x</td>\n",
              "      <td>y</td>\n",
              "      <td>y</td>\n",
              "      <td>t</td>\n",
              "      <td>a</td>\n",
              "      <td>f</td>\n",
              "      <td>c</td>\n",
              "      <td>b</td>\n",
              "      <td>n</td>\n",
              "      <td>e</td>\n",
              "      <td>c</td>\n",
              "      <td>s</td>\n",
              "      <td>s</td>\n",
              "      <td>w</td>\n",
              "      <td>w</td>\n",
              "      <td>p</td>\n",
              "      <td>w</td>\n",
              "      <td>o</td>\n",
              "      <td>p</td>\n",
              "      <td>k</td>\n",
              "      <td>n</td>\n",
              "      <td>g</td>\n",
              "    </tr>\n",
              "  </tbody>\n",
              "</table>\n",
              "</div>"
            ],
            "text/plain": [
              "  class cap-shape cap-surface  ... spore-print-color population habitat\n",
              "0     p         x           s  ...                 k          s       u\n",
              "1     e         x           s  ...                 n          n       g\n",
              "2     e         b           s  ...                 n          n       m\n",
              "3     p         x           y  ...                 k          s       u\n",
              "4     e         x           s  ...                 n          a       g\n",
              "5     e         x           y  ...                 k          n       g\n",
              "\n",
              "[6 rows x 23 columns]"
            ]
          },
          "metadata": {
            "tags": []
          },
          "execution_count": 148
        }
      ]
    },
    {
      "cell_type": "markdown",
      "metadata": {
        "id": "TLLOP4zRMsx8"
      },
      "source": [
        "#Visualizations\n"
      ]
    },
    {
      "cell_type": "markdown",
      "metadata": {
        "id": "TZHexM220t1u"
      },
      "source": [
        "* นำข้อมูลมาทำแผนภาพเพื่อแสดงสัดส่วนของข้อมูล"
      ]
    },
    {
      "cell_type": "code",
      "metadata": {
        "id": "OYmI6EbOMOxi"
      },
      "source": [
        "#import library ที่ต้องใช้\n",
        "import matplotlib.pylab as pylab"
      ],
      "execution_count": null,
      "outputs": []
    },
    {
      "cell_type": "code",
      "metadata": {
        "id": "F-ZwdR_6MzBa"
      },
      "source": [
        "#ตั้งค่าการตกแต่ง plot\n",
        "params = {'legend.fontsize': 'x-large',\n",
        "         'axes.labelsize': 'x-large',\n",
        "         'axes.titlesize':'x-large',\n",
        "         'xtick.labelsize':'x-large',\n",
        "         'ytick.labelsize':'x-large'}\n",
        "pylab.rcParams.update(params)"
      ],
      "execution_count": null,
      "outputs": []
    },
    {
      "cell_type": "code",
      "metadata": {
        "id": "15cWdHpGM6H0"
      },
      "source": [
        "#สร้าง Histogram โดยนำข้อมูลเข้ามาใส่\n",
        "def plot_col(col, hue=None, color=['#FF0000', 'limegreen'], labels=None):\n",
        "    fig, ax = plt.subplots(figsize=(15, 7))\n",
        "    sns.countplot(col, hue=hue, palette=color, saturation=0.6, data=data, \n",
        "                  dodge=True, ax=ax)\n",
        "    ax.set(title = f\"Mushroom {col.title()} Quantity\", xlabel=f\"{col.title()}\",\n",
        "           ylabel=\"Quantity\")\n",
        "    if labels!=None:\n",
        "        ax.set_xticklabels(labels)\n",
        "    if hue!=None:\n",
        "        ax.legend(('Poisonous', 'Edible'), loc=0)"
      ],
      "execution_count": null,
      "outputs": []
    },
    {
      "cell_type": "code",
      "metadata": {
        "id": "dEfftgY7M7vm",
        "colab": {
          "base_uri": "https://localhost:8080/",
          "height": 521
        },
        "outputId": "7e6d4259-52bf-4aee-c41d-c1affd1fa5f3"
      },
      "source": [
        "#โชว์แผนภาพโดยใส่ label เข้าไปเพื่อแสดงจำนวนเห็ดที่มีพิษและไม่มีพิษ\n",
        "class_dict = ('Poisonous', 'Edible')\n",
        "plot_col(col='class', labels=class_dict)"
      ],
      "execution_count": null,
      "outputs": [
        {
          "output_type": "stream",
          "text": [
            "/usr/local/lib/python3.6/dist-packages/seaborn/_decorators.py:43: FutureWarning: Pass the following variable as a keyword arg: x. From version 0.12, the only valid positional argument will be `data`, and passing other arguments without an explicit keyword will result in an error or misinterpretation.\n",
            "  FutureWarning\n"
          ],
          "name": "stderr"
        },
        {
          "output_type": "display_data",
          "data": {
            "image/png": "[encoded data removed]",
            "text/plain": [
              "<Figure size 1080x504 with 1 Axes>"
            ]
          },
          "metadata": {
            "tags": [],
            "needs_background": "light"
          }
        }
      ]
    },
    {
      "cell_type": "code",
      "metadata": {
        "colab": {
          "base_uri": "https://localhost:8080/",
          "height": 521
        },
        "id": "3OOhveIpNeWi",
        "outputId": "9ab18b96-71b3-4376-fc69-0dffe63bd0c5"
      },
      "source": [
        "#โชว์แผนภาพโดยใส่ label ชื่อสีเข้าไปเพื่อแสดงจำนวนเห็ดสีต่างๆ\n",
        "color_dict = {\"brown\":\"n\",\"yellow\":\"y\", \"blue\":\"w\", \"gray\":\"g\", \"red\":\"e\",\n",
        "              \"pink\":\"p\", \"orange\":\"b\", \"purple\":\"u\", \"black\":\"c\", \"green\":\"r\"}\n",
        "plot_col(col='cap-color', color=color_dict.keys(), labels=color_dict)"
      ],
      "execution_count": null,
      "outputs": [
        {
          "output_type": "stream",
          "text": [
            "/usr/local/lib/python3.6/dist-packages/seaborn/_decorators.py:43: FutureWarning: Pass the following variable as a keyword arg: x. From version 0.12, the only valid positional argument will be `data`, and passing other arguments without an explicit keyword will result in an error or misinterpretation.\n",
            "  FutureWarning\n"
          ],
          "name": "stderr"
        },
        {
          "output_type": "display_data",
          "data": {
            "image/png": "[encoded data removed]",
            "text/plain": [
              "<Figure size 1080x504 with 1 Axes>"
            ]
          },
          "metadata": {
            "tags": [],
            "needs_background": "light"
          }
        }
      ]
    },
    {
      "cell_type": "code",
      "metadata": {
        "id": "RByOj_e1OXYK"
      },
      "source": [
        "def get_labels(order, a_dict):    \n",
        "    labels = []\n",
        "    for values in order:\n",
        "        for key, value in a_dict.items():\n",
        "            if values == value:\n",
        "                labels.append(key)\n",
        "    return labels"
      ],
      "execution_count": null,
      "outputs": []
    },
    {
      "cell_type": "code",
      "metadata": {
        "colab": {
          "base_uri": "https://localhost:8080/",
          "height": 521
        },
        "id": "wI7DvFB0ONWI",
        "outputId": "34ccf1fe-cbc5-40f9-9233-7fa0cb9e3939"
      },
      "source": [
        "#โชว์แผนภาพโดยใส่ label เข้าไปเพื่อแสดงจำนวนเห็ดกลิ่นต่างๆ\n",
        "odor_dict = {\"almond\":\"a\",\"anise\":\"l\",\"creosote\":\"c\",\"fishy\":\"y\",\n",
        "             \"foul\":\"f\",\"musty\":\"m\",\"none\":\"n\",\"pungent\":\"p\",\"spicy\":\"s\"}\n",
        "order = ['p', 'a', 'l', 'n', 'f', 'c', 'y', 's', 'm']\n",
        "labels = get_labels(order, odor_dict)      \n",
        "plot_col(col='odor', color=color_dict.keys(), labels=labels)"
      ],
      "execution_count": null,
      "outputs": [
        {
          "output_type": "stream",
          "text": [
            "/usr/local/lib/python3.6/dist-packages/seaborn/_decorators.py:43: FutureWarning: Pass the following variable as a keyword arg: x. From version 0.12, the only valid positional argument will be `data`, and passing other arguments without an explicit keyword will result in an error or misinterpretation.\n",
            "  FutureWarning\n"
          ],
          "name": "stderr"
        },
        {
          "output_type": "display_data",
          "data": {
            "image/png": "[encoded data removed]",
            "text/plain": [
              "<Figure size 1080x504 with 1 Axes>"
            ]
          },
          "metadata": {
            "tags": [],
            "needs_background": "light"
          }
        }
      ]
    },
    {
      "cell_type": "markdown",
      "metadata": {
        "id": "6tW2H1JCqu53"
      },
      "source": [
        "#เตรียมข้อมูล"
      ]
    },
    {
      "cell_type": "markdown",
      "metadata": {
        "id": "k8ezzaSKq_dO"
      },
      "source": [
        "##เช็คข้อมูล"
      ]
    },
    {
      "cell_type": "code",
      "metadata": {
        "colab": {
          "base_uri": "https://localhost:8080/"
        },
        "id": "gxybCnadqm3T",
        "outputId": "715b3279-6239-400b-8680-b96f1fbd7ccb"
      },
      "source": [
        "#check null data\n",
        "data.isnull().sum()"
      ],
      "execution_count": null,
      "outputs": [
        {
          "output_type": "execute_result",
          "data": {
            "text/plain": [
              "class                       0\n",
              "cap-shape                   0\n",
              "cap-surface                 0\n",
              "cap-color                   0\n",
              "bruises                     0\n",
              "odor                        0\n",
              "gill-attachment             0\n",
              "gill-spacing                0\n",
              "gill-size                   0\n",
              "gill-color                  0\n",
              "stalk-shape                 0\n",
              "stalk-root                  0\n",
              "stalk-surface-above-ring    0\n",
              "stalk-surface-below-ring    0\n",
              "stalk-color-above-ring      0\n",
              "stalk-color-below-ring      0\n",
              "veil-type                   0\n",
              "veil-color                  0\n",
              "ring-number                 0\n",
              "ring-type                   0\n",
              "spore-print-color           0\n",
              "population                  0\n",
              "habitat                     0\n",
              "dtype: int64"
            ]
          },
          "metadata": {
            "tags": []
          },
          "execution_count": 156
        }
      ]
    },
    {
      "cell_type": "code",
      "metadata": {
        "colab": {
          "base_uri": "https://localhost:8080/"
        },
        "id": "yhzYvmk6q8jW",
        "outputId": "0e4c0d1e-83e1-4ef3-c354-e6ee79fd4f5e"
      },
      "source": [
        "#Check number of row and column\n",
        "data.shape"
      ],
      "execution_count": null,
      "outputs": [
        {
          "output_type": "execute_result",
          "data": {
            "text/plain": [
              "(8124, 23)"
            ]
          },
          "metadata": {
            "tags": []
          },
          "execution_count": 157
        }
      ]
    },
    {
      "cell_type": "markdown",
      "metadata": {
        "id": "eSkMVYtz7wCz"
      },
      "source": [
        "##เก็บข้อมูลลงตัวแปร"
      ]
    },
    {
      "cell_type": "markdown",
      "metadata": {
        "id": "Abz31JHCrj5Y"
      },
      "source": [
        "###แปลงข้อมูลจากตัวอักษรเป็นตัวเลข\n",
        "* นำ LabelEncoder มาแปลงข้อมูลจากตัวอักษรเป็นตัวเลข เพื่อที่จะนำข้อมูลไปสร้าง Model ได้"
      ]
    },
    {
      "cell_type": "code",
      "metadata": {
        "colab": {
          "base_uri": "https://localhost:8080/",
          "height": 266
        },
        "id": "ellPCXJ8rGPn",
        "outputId": "08f7af1c-717c-4cca-8863-bdfe543035ab"
      },
      "source": [
        "labelencoder=LabelEncoder()\n",
        "for col in data.columns:\n",
        "    data[col] = labelencoder.fit_transform(data[col])\n",
        " \n",
        "data.head()"
      ],
      "execution_count": null,
      "outputs": [
        {
          "output_type": "execute_result",
          "data": {
            "text/html": [
              "<div>\n",
              "<style scoped>\n",
              "    .dataframe tbody tr th:only-of-type {\n",
              "        vertical-align: middle;\n",
              "    }\n",
              "\n",
              "    .dataframe tbody tr th {\n",
              "        vertical-align: top;\n",
              "    }\n",
              "\n",
              "    .dataframe thead th {\n",
              "        text-align: right;\n",
              "    }\n",
              "</style>\n",
              "<table border=\"1\" class=\"dataframe\">\n",
              "  <thead>\n",
              "    <tr style=\"text-align: right;\">\n",
              "      <th></th>\n",
              "      <th>class</th>\n",
              "      <th>cap-shape</th>\n",
              "      <th>cap-surface</th>\n",
              "      <th>cap-color</th>\n",
              "      <th>bruises</th>\n",
              "      <th>odor</th>\n",
              "      <th>gill-attachment</th>\n",
              "      <th>gill-spacing</th>\n",
              "      <th>gill-size</th>\n",
              "      <th>gill-color</th>\n",
              "      <th>stalk-shape</th>\n",
              "      <th>stalk-root</th>\n",
              "      <th>stalk-surface-above-ring</th>\n",
              "      <th>stalk-surface-below-ring</th>\n",
              "      <th>stalk-color-above-ring</th>\n",
              "      <th>stalk-color-below-ring</th>\n",
              "      <th>veil-type</th>\n",
              "      <th>veil-color</th>\n",
              "      <th>ring-number</th>\n",
              "      <th>ring-type</th>\n",
              "      <th>spore-print-color</th>\n",
              "      <th>population</th>\n",
              "      <th>habitat</th>\n",
              "    </tr>\n",
              "  </thead>\n",
              "  <tbody>\n",
              "    <tr>\n",
              "      <th>0</th>\n",
              "      <td>1</td>\n",
              "      <td>5</td>\n",
              "      <td>2</td>\n",
              "      <td>4</td>\n",
              "      <td>1</td>\n",
              "      <td>6</td>\n",
              "      <td>1</td>\n",
              "      <td>0</td>\n",
              "      <td>1</td>\n",
              "      <td>4</td>\n",
              "      <td>0</td>\n",
              "      <td>3</td>\n",
              "      <td>2</td>\n",
              "      <td>2</td>\n",
              "      <td>7</td>\n",
              "      <td>7</td>\n",
              "      <td>0</td>\n",
              "      <td>2</td>\n",
              "      <td>1</td>\n",
              "      <td>4</td>\n",
              "      <td>2</td>\n",
              "      <td>3</td>\n",
              "      <td>5</td>\n",
              "    </tr>\n",
              "    <tr>\n",
              "      <th>1</th>\n",
              "      <td>0</td>\n",
              "      <td>5</td>\n",
              "      <td>2</td>\n",
              "      <td>9</td>\n",
              "      <td>1</td>\n",
              "      <td>0</td>\n",
              "      <td>1</td>\n",
              "      <td>0</td>\n",
              "      <td>0</td>\n",
              "      <td>4</td>\n",
              "      <td>0</td>\n",
              "      <td>2</td>\n",
              "      <td>2</td>\n",
              "      <td>2</td>\n",
              "      <td>7</td>\n",
              "      <td>7</td>\n",
              "      <td>0</td>\n",
              "      <td>2</td>\n",
              "      <td>1</td>\n",
              "      <td>4</td>\n",
              "      <td>3</td>\n",
              "      <td>2</td>\n",
              "      <td>1</td>\n",
              "    </tr>\n",
              "    <tr>\n",
              "      <th>2</th>\n",
              "      <td>0</td>\n",
              "      <td>0</td>\n",
              "      <td>2</td>\n",
              "      <td>8</td>\n",
              "      <td>1</td>\n",
              "      <td>3</td>\n",
              "      <td>1</td>\n",
              "      <td>0</td>\n",
              "      <td>0</td>\n",
              "      <td>5</td>\n",
              "      <td>0</td>\n",
              "      <td>2</td>\n",
              "      <td>2</td>\n",
              "      <td>2</td>\n",
              "      <td>7</td>\n",
              "      <td>7</td>\n",
              "      <td>0</td>\n",
              "      <td>2</td>\n",
              "      <td>1</td>\n",
              "      <td>4</td>\n",
              "      <td>3</td>\n",
              "      <td>2</td>\n",
              "      <td>3</td>\n",
              "    </tr>\n",
              "    <tr>\n",
              "      <th>3</th>\n",
              "      <td>1</td>\n",
              "      <td>5</td>\n",
              "      <td>3</td>\n",
              "      <td>8</td>\n",
              "      <td>1</td>\n",
              "      <td>6</td>\n",
              "      <td>1</td>\n",
              "      <td>0</td>\n",
              "      <td>1</td>\n",
              "      <td>5</td>\n",
              "      <td>0</td>\n",
              "      <td>3</td>\n",
              "      <td>2</td>\n",
              "      <td>2</td>\n",
              "      <td>7</td>\n",
              "      <td>7</td>\n",
              "      <td>0</td>\n",
              "      <td>2</td>\n",
              "      <td>1</td>\n",
              "      <td>4</td>\n",
              "      <td>2</td>\n",
              "      <td>3</td>\n",
              "      <td>5</td>\n",
              "    </tr>\n",
              "    <tr>\n",
              "      <th>4</th>\n",
              "      <td>0</td>\n",
              "      <td>5</td>\n",
              "      <td>2</td>\n",
              "      <td>3</td>\n",
              "      <td>0</td>\n",
              "      <td>5</td>\n",
              "      <td>1</td>\n",
              "      <td>1</td>\n",
              "      <td>0</td>\n",
              "      <td>4</td>\n",
              "      <td>1</td>\n",
              "      <td>3</td>\n",
              "      <td>2</td>\n",
              "      <td>2</td>\n",
              "      <td>7</td>\n",
              "      <td>7</td>\n",
              "      <td>0</td>\n",
              "      <td>2</td>\n",
              "      <td>1</td>\n",
              "      <td>0</td>\n",
              "      <td>3</td>\n",
              "      <td>0</td>\n",
              "      <td>1</td>\n",
              "    </tr>\n",
              "  </tbody>\n",
              "</table>\n",
              "</div>"
            ],
            "text/plain": [
              "   class  cap-shape  cap-surface  ...  spore-print-color  population  habitat\n",
              "0      1          5            2  ...                  2           3        5\n",
              "1      0          5            2  ...                  3           2        1\n",
              "2      0          0            2  ...                  3           2        3\n",
              "3      1          5            3  ...                  2           3        5\n",
              "4      0          5            2  ...                  3           0        1\n",
              "\n",
              "[5 rows x 23 columns]"
            ]
          },
          "metadata": {
            "tags": []
          },
          "execution_count": 158
        }
      ]
    },
    {
      "cell_type": "markdown",
      "metadata": {
        "id": "jeJ1UXce7WN0"
      },
      "source": [
        "###เลือก features และเก็บลงตัวแปร"
      ]
    },
    {
      "cell_type": "code",
      "metadata": {
        "id": "OTIYqdpcur6r"
      },
      "source": [
        "#เลือก rows ทั้งหมดของข้อมูล แต่ไม่เอา Label มาใส่ในตัวแปร X\n",
        "#โดยเอามาเพียง 5 features คือ สีของหมวกเห็ด ความช้ำ กลิ่น ขนาดของครีบ และที่อยู่อาศัย\n",
        "X = data.loc[:,['cap-color','bruises','odor','gill-size','habitat']]  \n",
        "#เลือก rows ทั้งหมด จาก Label มาใส่ในตัวแปร Y\n",
        "y = data.iloc[:, 0]  "
      ],
      "execution_count": null,
      "outputs": []
    },
    {
      "cell_type": "code",
      "metadata": {
        "colab": {
          "base_uri": "https://localhost:8080/",
          "height": 195
        },
        "id": "bf0c6QhPvpSg",
        "outputId": "b490f203-0de8-4d72-cdee-7e3745c5c21f"
      },
      "source": [
        "#แสดงข้อมูลบางส่วนของ X เป็นตาราง\n",
        "X.head()"
      ],
      "execution_count": null,
      "outputs": [
        {
          "output_type": "execute_result",
          "data": {
            "text/html": [
              "<div>\n",
              "<style scoped>\n",
              "    .dataframe tbody tr th:only-of-type {\n",
              "        vertical-align: middle;\n",
              "    }\n",
              "\n",
              "    .dataframe tbody tr th {\n",
              "        vertical-align: top;\n",
              "    }\n",
              "\n",
              "    .dataframe thead th {\n",
              "        text-align: right;\n",
              "    }\n",
              "</style>\n",
              "<table border=\"1\" class=\"dataframe\">\n",
              "  <thead>\n",
              "    <tr style=\"text-align: right;\">\n",
              "      <th></th>\n",
              "      <th>cap-color</th>\n",
              "      <th>bruises</th>\n",
              "      <th>odor</th>\n",
              "      <th>gill-size</th>\n",
              "      <th>habitat</th>\n",
              "    </tr>\n",
              "  </thead>\n",
              "  <tbody>\n",
              "    <tr>\n",
              "      <th>0</th>\n",
              "      <td>4</td>\n",
              "      <td>1</td>\n",
              "      <td>6</td>\n",
              "      <td>1</td>\n",
              "      <td>5</td>\n",
              "    </tr>\n",
              "    <tr>\n",
              "      <th>1</th>\n",
              "      <td>9</td>\n",
              "      <td>1</td>\n",
              "      <td>0</td>\n",
              "      <td>0</td>\n",
              "      <td>1</td>\n",
              "    </tr>\n",
              "    <tr>\n",
              "      <th>2</th>\n",
              "      <td>8</td>\n",
              "      <td>1</td>\n",
              "      <td>3</td>\n",
              "      <td>0</td>\n",
              "      <td>3</td>\n",
              "    </tr>\n",
              "    <tr>\n",
              "      <th>3</th>\n",
              "      <td>8</td>\n",
              "      <td>1</td>\n",
              "      <td>6</td>\n",
              "      <td>1</td>\n",
              "      <td>5</td>\n",
              "    </tr>\n",
              "    <tr>\n",
              "      <th>4</th>\n",
              "      <td>3</td>\n",
              "      <td>0</td>\n",
              "      <td>5</td>\n",
              "      <td>0</td>\n",
              "      <td>1</td>\n",
              "    </tr>\n",
              "  </tbody>\n",
              "</table>\n",
              "</div>"
            ],
            "text/plain": [
              "   cap-color  bruises  odor  gill-size  habitat\n",
              "0          4        1     6          1        5\n",
              "1          9        1     0          0        1\n",
              "2          8        1     3          0        3\n",
              "3          8        1     6          1        5\n",
              "4          3        0     5          0        1"
            ]
          },
          "metadata": {
            "tags": []
          },
          "execution_count": 160
        }
      ]
    },
    {
      "cell_type": "code",
      "metadata": {
        "colab": {
          "base_uri": "https://localhost:8080/"
        },
        "id": "eWaYbVuDvqhj",
        "outputId": "d14782be-b66b-4198-b7a3-8cd1fb6679ff"
      },
      "source": [
        "#แสดงข้อมูลบางส่วนของ Y เป็นตาราง\n",
        "y.head()"
      ],
      "execution_count": null,
      "outputs": [
        {
          "output_type": "execute_result",
          "data": {
            "text/plain": [
              "0    1\n",
              "1    0\n",
              "2    0\n",
              "3    1\n",
              "4    0\n",
              "Name: class, dtype: int64"
            ]
          },
          "metadata": {
            "tags": []
          },
          "execution_count": 161
        }
      ]
    },
    {
      "cell_type": "markdown",
      "metadata": {
        "id": "Qn2FPRsz5_VZ"
      },
      "source": [
        "##Plot ข้อมูลแต่ละ features"
      ]
    },
    {
      "cell_type": "code",
      "metadata": {
        "colab": {
          "base_uri": "https://localhost:8080/",
          "height": 286
        },
        "id": "1APNLWpq5nYl",
        "outputId": "219d16a1-5b6f-4cde-fe54-9965b0520be4"
      },
      "source": [
        "#ทำ boxplot ของ features ทั้ง 5\n",
        "sns.boxplot(data=X)"
      ],
      "execution_count": null,
      "outputs": [
        {
          "output_type": "execute_result",
          "data": {
            "text/plain": [
              "<matplotlib.axes._subplots.AxesSubplot at 0x7f09402050b8>"
            ]
          },
          "metadata": {
            "tags": []
          },
          "execution_count": 162
        },
        {
          "output_type": "display_data",
          "data": {
            "image/png": "[encoded data removed]",
            "text/plain": [
              "<Figure size 432x288 with 1 Axes>"
            ]
          },
          "metadata": {
            "tags": [],
            "needs_background": "light"
          }
        }
      ]
    },
    {
      "cell_type": "markdown",
      "metadata": {
        "id": "3c_jnuGdwLWL"
      },
      "source": [
        "##แบ่งข้อมูลเป็นชุดฝึกและชุดทดสอบ"
      ]
    },
    {
      "cell_type": "code",
      "metadata": {
        "id": "B3Yc6Zz3vic4"
      },
      "source": [
        "#import library\n",
        "from sklearn.model_selection import train_test_split\n",
        "#แบ่งชุดข้อมูลโดยเก็บในตัวแปร X_train, X_test, y_train, y_test\n",
        "X_train, X_test, y_train, y_test = train_test_split(X,\n",
        "                                                    y,\n",
        "                                                    test_size=0.2,\n",
        "                                                    random_state=4)"
      ],
      "execution_count": null,
      "outputs": []
    },
    {
      "cell_type": "code",
      "metadata": {
        "colab": {
          "base_uri": "https://localhost:8080/"
        },
        "id": "G01XNrDhztQX",
        "outputId": "bb39eb31-6d4a-4193-85fa-6dcd4353477d"
      },
      "source": [
        "#Check number of row and column ของ X_train\n",
        "X_train.shape"
      ],
      "execution_count": null,
      "outputs": [
        {
          "output_type": "execute_result",
          "data": {
            "text/plain": [
              "(6499, 5)"
            ]
          },
          "metadata": {
            "tags": []
          },
          "execution_count": 164
        }
      ]
    },
    {
      "cell_type": "code",
      "metadata": {
        "colab": {
          "base_uri": "https://localhost:8080/"
        },
        "id": "mloy3PoZzz82",
        "outputId": "9778accf-3850-480d-ebc4-98acff5b5db4"
      },
      "source": [
        "#Check number of row and column ของ X_test\n",
        "X_test.shape"
      ],
      "execution_count": null,
      "outputs": [
        {
          "output_type": "execute_result",
          "data": {
            "text/plain": [
              "(1625, 5)"
            ]
          },
          "metadata": {
            "tags": []
          },
          "execution_count": 165
        }
      ]
    },
    {
      "cell_type": "markdown",
      "metadata": {
        "id": "SNVjPkKlM4JG"
      },
      "source": [
        "#Model\n",
        "* สร้าง Model เพื่อนำไปใช้ โดยใช้ Pipeline ในการทำ\n",
        "* นำ Model ที่ได้มาทำ Ensemble\n",
        "* นำ Logistic Regression Model มาปรับ Parameter "
      ]
    },
    {
      "cell_type": "markdown",
      "metadata": {
        "id": "avCQchRpJXu_"
      },
      "source": [
        "##Import Model\n",
        "* import library ที่ต้องใช้"
      ]
    },
    {
      "cell_type": "code",
      "metadata": {
        "id": "diwwl5A-MoE8"
      },
      "source": [
        "from sklearn.metrics import confusion_matrix, classification_report\n",
        "from sklearn.linear_model import LogisticRegression\n",
        "from sklearn.tree import DecisionTreeClassifier\n",
        "from sklearn.neural_network import MLPClassifier\n",
        "from sklearn.svm import SVC"
      ],
      "execution_count": null,
      "outputs": []
    },
    {
      "cell_type": "markdown",
      "metadata": {
        "id": "qhSCRuYx93L-"
      },
      "source": [
        "##Pipeline"
      ]
    },
    {
      "cell_type": "code",
      "metadata": {
        "id": "Eo8GNJOy92tF"
      },
      "source": [
        "#import library\n",
        "from sklearn.pipeline import Pipeline"
      ],
      "execution_count": null,
      "outputs": []
    },
    {
      "cell_type": "markdown",
      "metadata": {
        "id": "vLXZVZX2swYH"
      },
      "source": [
        "###Logistic Regression Pipeline"
      ]
    },
    {
      "cell_type": "code",
      "metadata": {
        "id": "NkIVf8JS-baR",
        "colab": {
          "base_uri": "https://localhost:8080/"
        },
        "outputId": "03a9c2c1-ebac-41a2-ab56-a23b3d67c560"
      },
      "source": [
        "#สร้าง Logistic Regression Model โดยใช้ชื่อ model_lr\n",
        "model_lr = Pipeline(steps =[('scale',StandardScaler()), \n",
        "                            ('lr',LogisticRegression())])\n",
        "#ฝึก model_lr ด้วยข้อมูล train\n",
        "model_lr.fit(X_train,y_train)\n",
        "#ลองนำ model_lr มาทำนาย และเก็บค่า y ที่ทำนายได้\n",
        "y_pred_lr=model_lr.predict(X_test)\n",
        "#ทำ Report ด้วย y ที่ทำนายได้มาเปรียบเทียบกับ y จริงๆ\n",
        "print('Linear Regression Report')\n",
        "print(classification_report(y_pred_lr,y_test))\n"
      ],
      "execution_count": null,
      "outputs": [
        {
          "output_type": "stream",
          "text": [
            "Linear Regression Report\n",
            "              precision    recall  f1-score   support\n",
            "\n",
            "           0       0.93      0.91      0.92       860\n",
            "           1       0.90      0.92      0.91       765\n",
            "\n",
            "    accuracy                           0.92      1625\n",
            "   macro avg       0.92      0.92      0.92      1625\n",
            "weighted avg       0.92      0.92      0.92      1625\n",
            "\n"
          ],
          "name": "stdout"
        }
      ]
    },
    {
      "cell_type": "code",
      "metadata": {
        "colab": {
          "base_uri": "https://localhost:8080/"
        },
        "id": "ZZRqfLZtibuJ",
        "outputId": "b9bcab36-93c1-492b-bcce-782ed79c4c50"
      },
      "source": [
        "#แสดงจำนวน confusion matrix โดยเก็บในตัวแปร cm_lr\n",
        "cm_lr = confusion_matrix(y_true=y_test, y_pred=y_pred_lr,labels=[1, 0])\n",
        "print(cm_lr)"
      ],
      "execution_count": null,
      "outputs": [
        {
          "output_type": "stream",
          "text": [
            "[[705  75]\n",
            " [ 60 785]]\n"
          ],
          "name": "stdout"
        }
      ]
    },
    {
      "cell_type": "code",
      "metadata": {
        "colab": {
          "base_uri": "https://localhost:8080/",
          "height": 304
        },
        "id": "ou8xVckgiNFq",
        "outputId": "643ad5af-ea5f-4d7e-a7e5-d408d54b4e81"
      },
      "source": [
        "#import library\n",
        "from sklearn.metrics import plot_confusion_matrix\n",
        "#แสดงแผนภาพของ confusion_matrix ของ model_lr \n",
        "plot_confusion_matrix(estimator=model_lr,X=X_test,y_true=y_test,labels=[1, 0]) "
      ],
      "execution_count": null,
      "outputs": [
        {
          "output_type": "execute_result",
          "data": {
            "text/plain": [
              "<sklearn.metrics._plot.confusion_matrix.ConfusionMatrixDisplay at 0x7f093ffc3a90>"
            ]
          },
          "metadata": {
            "tags": []
          },
          "execution_count": 170
        },
        {
          "output_type": "display_data",
          "data": {
            "image/png": "[encoded data removed]",
            "text/plain": [
              "<Figure size 432x288 with 2 Axes>"
            ]
          },
          "metadata": {
            "tags": [],
            "needs_background": "light"
          }
        }
      ]
    },
    {
      "cell_type": "markdown",
      "metadata": {
        "id": "8SCX9XlgtNDW"
      },
      "source": [
        "###Decision Tree Pipeline"
      ]
    },
    {
      "cell_type": "code",
      "metadata": {
        "colab": {
          "base_uri": "https://localhost:8080/"
        },
        "id": "1PejItUJo2Uo",
        "outputId": "37d27685-3017-4bc0-87d4-610c994e6d7b"
      },
      "source": [
        "#สร้าง DecisionTree Classifier Model โดยใช้ชื่อ model_dt\n",
        "model_dt = DecisionTreeClassifier()\n",
        "#ฝึก model_dt ด้วยข้อมูล train\n",
        "model_dt.fit(X_train,y_train)\n",
        "#ลองนำ model_dt มาทำนาย และเก็บค่า y ที่ทำนายได้\n",
        "y_pred_dt=model_dt.predict(X_test)\n",
        "#ทำ Report ด้วย y ที่ทำนายได้มาเปรียบเทียบกับ y จริงๆ\n",
        "print('Decision Tree Report')\n",
        "print(classification_report(y_pred_dt,y_test))"
      ],
      "execution_count": null,
      "outputs": [
        {
          "output_type": "stream",
          "text": [
            "Decision Tree Report\n",
            "              precision    recall  f1-score   support\n",
            "\n",
            "           0       1.00      1.00      1.00       845\n",
            "           1       1.00      1.00      1.00       780\n",
            "\n",
            "    accuracy                           1.00      1625\n",
            "   macro avg       1.00      1.00      1.00      1625\n",
            "weighted avg       1.00      1.00      1.00      1625\n",
            "\n"
          ],
          "name": "stdout"
        }
      ]
    },
    {
      "cell_type": "code",
      "metadata": {
        "colab": {
          "base_uri": "https://localhost:8080/"
        },
        "id": "3gK-PNdPpf6l",
        "outputId": "5814c983-ba81-4550-dca1-bf9a57507f88"
      },
      "source": [
        "#แสดงจำนวน confusion matrix โดยเก็บในตัวแปร cm_dt\n",
        "cm_dt = confusion_matrix(y_true=y_test, y_pred=y_pred_dt,labels=[1, 0])\n",
        "print(cm_dt)"
      ],
      "execution_count": null,
      "outputs": [
        {
          "output_type": "stream",
          "text": [
            "[[780   0]\n",
            " [  0 845]]\n"
          ],
          "name": "stdout"
        }
      ]
    },
    {
      "cell_type": "code",
      "metadata": {
        "colab": {
          "base_uri": "https://localhost:8080/",
          "height": 304
        },
        "id": "xALzEvSQpWAl",
        "outputId": "4302b815-0c5c-474b-a47c-7d0c486d5414"
      },
      "source": [
        "#แสดงแผนภาพของ confusion_matrix ของ model_dt \n",
        "plot_confusion_matrix(estimator=model_dt,X=X_test,y_true=y_test,labels=[1, 0])"
      ],
      "execution_count": null,
      "outputs": [
        {
          "output_type": "execute_result",
          "data": {
            "text/plain": [
              "<sklearn.metrics._plot.confusion_matrix.ConfusionMatrixDisplay at 0x7f093fe8bac8>"
            ]
          },
          "metadata": {
            "tags": []
          },
          "execution_count": 173
        },
        {
          "output_type": "display_data",
          "data": {
            "image/png": "[encoded data removed]",
            "text/plain": [
              "<Figure size 432x288 with 2 Axes>"
            ]
          },
          "metadata": {
            "tags": [],
            "needs_background": "light"
          }
        }
      ]
    },
    {
      "cell_type": "markdown",
      "metadata": {
        "id": "fEl1eSMguOsr"
      },
      "source": [
        "###Support Vector Machine Pipeline"
      ]
    },
    {
      "cell_type": "code",
      "metadata": {
        "colab": {
          "base_uri": "https://localhost:8080/"
        },
        "id": "rnQ4kTwppw6F",
        "outputId": "2c2ef1e3-243c-4c96-b573-0f1dcb37afd1"
      },
      "source": [
        "#สร้าง Support Vector Machine Model โดยใช้ชื่อ model_svc\n",
        "model_svc = Pipeline(steps =[('scale',StandardScaler()), ('svm',SVC())])\n",
        "#ฝึก model_svc ด้วยข้อมูล train\n",
        "model_svc.fit(X_train,y_train)\n",
        "#ลองนำ model_svc มาทำนาย และเก็บค่า y ที่ทำนายได้\n",
        "y_pred_svc=model_svc.predict(X_test)\n",
        "#ทำ Report ด้วย y ที่ทำนายได้มาเปรียบเทียบกับ y จริงๆ\n",
        "print('Support Vector Machine Report')\n",
        "print(classification_report(y_pred_svc,y_test))"
      ],
      "execution_count": null,
      "outputs": [
        {
          "output_type": "stream",
          "text": [
            "Support Vector Machine Report\n",
            "              precision    recall  f1-score   support\n",
            "\n",
            "           0       1.00      0.97      0.99       867\n",
            "           1       0.97      1.00      0.99       758\n",
            "\n",
            "    accuracy                           0.99      1625\n",
            "   macro avg       0.99      0.99      0.99      1625\n",
            "weighted avg       0.99      0.99      0.99      1625\n",
            "\n"
          ],
          "name": "stdout"
        }
      ]
    },
    {
      "cell_type": "code",
      "metadata": {
        "colab": {
          "base_uri": "https://localhost:8080/"
        },
        "id": "q07egW-xpxUh",
        "outputId": "01b6175a-c718-4a13-e8f6-208e0693edfe"
      },
      "source": [
        "#แสดงจำนวน confusion matrix โดยเก็บในตัวแปร cm_svc\n",
        "cm_svc = confusion_matrix(y_true=y_test, y_pred=y_pred_svc,labels=[1, 0])\n",
        "print(cm_svc)"
      ],
      "execution_count": null,
      "outputs": [
        {
          "output_type": "stream",
          "text": [
            "[[758  22]\n",
            " [  0 845]]\n"
          ],
          "name": "stdout"
        }
      ]
    },
    {
      "cell_type": "code",
      "metadata": {
        "colab": {
          "base_uri": "https://localhost:8080/",
          "height": 304
        },
        "id": "SPQrLxnSpxng",
        "outputId": "eed5ed5b-1faf-4fb9-ac90-1632cda9b25d"
      },
      "source": [
        "#แสดงแผนภาพของ confusion_matrix ของ model_svc \n",
        "plot_confusion_matrix(estimator=model_svc,X=X_test,y_true=y_test,labels=[1, 0])"
      ],
      "execution_count": null,
      "outputs": [
        {
          "output_type": "execute_result",
          "data": {
            "text/plain": [
              "<sklearn.metrics._plot.confusion_matrix.ConfusionMatrixDisplay at 0x7f093f82aa20>"
            ]
          },
          "metadata": {
            "tags": []
          },
          "execution_count": 176
        },
        {
          "output_type": "display_data",
          "data": {
            "image/png": "[encoded data removed]",
            "text/plain": [
              "<Figure size 432x288 with 2 Axes>"
            ]
          },
          "metadata": {
            "tags": [],
            "needs_background": "light"
          }
        }
      ]
    },
    {
      "cell_type": "markdown",
      "metadata": {
        "id": "uhBXcIPmucCk"
      },
      "source": [
        "###Neural Network Pipeline"
      ]
    },
    {
      "cell_type": "code",
      "metadata": {
        "colab": {
          "base_uri": "https://localhost:8080/"
        },
        "id": "uKuYtwSBqXR7",
        "outputId": "325bfaaa-c4ed-4c5a-fc96-a2f981e7958b"
      },
      "source": [
        "#สร้าง Neural Network Model โดยใช้ชื่อ model_mlp\n",
        "model_mlp = Pipeline(steps =[('scale',StandardScaler()), \n",
        "                             ('MLP',MLPClassifier())])\n",
        "#ฝึก model_mlp ด้วยข้อมูล train\n",
        "model_mlp.fit(X_train,y_train)\n",
        "#ลองนำ model_mlp มาทำนาย และเก็บค่า y ที่ทำนายได้\n",
        "y_pred_mlp=model_mlp.predict(X_test)\n",
        "#ทำ Report ด้วย y ที่ทำนายได้มาเปรียบเทียบกับ y จริงๆ\n",
        "print(' Neural network Report')\n",
        "print(classification_report(y_pred_mlp,y_test))"
      ],
      "execution_count": null,
      "outputs": [
        {
          "output_type": "stream",
          "text": [
            " Neural network Report\n",
            "              precision    recall  f1-score   support\n",
            "\n",
            "           0       1.00      1.00      1.00       845\n",
            "           1       1.00      1.00      1.00       780\n",
            "\n",
            "    accuracy                           1.00      1625\n",
            "   macro avg       1.00      1.00      1.00      1625\n",
            "weighted avg       1.00      1.00      1.00      1625\n",
            "\n"
          ],
          "name": "stdout"
        }
      ]
    },
    {
      "cell_type": "code",
      "metadata": {
        "colab": {
          "base_uri": "https://localhost:8080/"
        },
        "id": "NxM4oVAKqXix",
        "outputId": "541e74fd-e38d-4e7c-f60c-11ee231e011d"
      },
      "source": [
        "#แสดงจำนวน confusion matrix โดยเก็บในตัวแปร cm_mlp\n",
        "cm_mlp = confusion_matrix(y_true=y_test, y_pred=y_pred_mlp,labels=[1, 0])\n",
        "print(cm_mlp)"
      ],
      "execution_count": null,
      "outputs": [
        {
          "output_type": "stream",
          "text": [
            "[[780   0]\n",
            " [  0 845]]\n"
          ],
          "name": "stdout"
        }
      ]
    },
    {
      "cell_type": "code",
      "metadata": {
        "colab": {
          "base_uri": "https://localhost:8080/",
          "height": 304
        },
        "id": "GZJrkPXgqXyp",
        "outputId": "1e1cbd12-f84b-4117-fa95-d68fde466c63"
      },
      "source": [
        "#แสดงแผนภาพของ confusion_matrix ของ model_mlp \n",
        "plot_confusion_matrix(estimator=model_mlp,X=X_test,y_true=y_test,labels=[1, 0])"
      ],
      "execution_count": null,
      "outputs": [
        {
          "output_type": "execute_result",
          "data": {
            "text/plain": [
              "<sklearn.metrics._plot.confusion_matrix.ConfusionMatrixDisplay at 0x7f093f585908>"
            ]
          },
          "metadata": {
            "tags": []
          },
          "execution_count": 179
        },
        {
          "output_type": "display_data",
          "data": {
            "image/png": "[encoded data removed]",
            "text/plain": [
              "<Figure size 432x288 with 2 Axes>"
            ]
          },
          "metadata": {
            "tags": [],
            "needs_background": "light"
          }
        }
      ]
    },
    {
      "cell_type": "markdown",
      "metadata": {
        "id": "X5xvomqEuw6n"
      },
      "source": [
        "###Ensemble (Voting Classifier)"
      ]
    },
    {
      "cell_type": "code",
      "metadata": {
        "id": "DDV5bhxVDpio"
      },
      "source": [
        "#import library\n",
        "from sklearn.ensemble import VotingClassifier\n",
        "from sklearn.model_selection import cross_val_score\n",
        "#สร้าง Ensemble Model จาก model_lr, model_svc, model_dt และ model_mlp\n",
        "#โดยใช้ชื่อ ensemble_model\n",
        "ensemble_model = VotingClassifier(estimators=[('lr',model_lr),\n",
        " ('svm',model_svc),\n",
        " ('dt',model_dt),\n",
        " ('rf',model_mlp)],voting='hard')"
      ],
      "execution_count": null,
      "outputs": []
    },
    {
      "cell_type": "code",
      "metadata": {
        "colab": {
          "base_uri": "https://localhost:8080/"
        },
        "id": "xnfoJR-cE8yT",
        "outputId": "8c748d5f-5ee8-45da-86a5-e1a25347b88a"
      },
      "source": [
        "#คำนวน score accuracy ของ ensemble_model โดยเก็บในตัวแปร score\n",
        "score = cross_val_score(estimator=ensemble_model,X=X_train,y=y_train,cv=10,\n",
        "                        scoring='accuracy')"
      ],
      "execution_count": null,
      "outputs": [
        {
          "output_type": "stream",
          "text": [
            "/usr/local/lib/python3.6/dist-packages/sklearn/neural_network/_multilayer_perceptron.py:571: ConvergenceWarning: Stochastic Optimizer: Maximum iterations (200) reached and the optimization hasn't converged yet.\n",
            "  % self.max_iter, ConvergenceWarning)\n",
            "/usr/local/lib/python3.6/dist-packages/sklearn/neural_network/_multilayer_perceptron.py:571: ConvergenceWarning: Stochastic Optimizer: Maximum iterations (200) reached and the optimization hasn't converged yet.\n",
            "  % self.max_iter, ConvergenceWarning)\n",
            "/usr/local/lib/python3.6/dist-packages/sklearn/neural_network/_multilayer_perceptron.py:571: ConvergenceWarning: Stochastic Optimizer: Maximum iterations (200) reached and the optimization hasn't converged yet.\n",
            "  % self.max_iter, ConvergenceWarning)\n",
            "/usr/local/lib/python3.6/dist-packages/sklearn/neural_network/_multilayer_perceptron.py:571: ConvergenceWarning: Stochastic Optimizer: Maximum iterations (200) reached and the optimization hasn't converged yet.\n",
            "  % self.max_iter, ConvergenceWarning)\n",
            "/usr/local/lib/python3.6/dist-packages/sklearn/neural_network/_multilayer_perceptron.py:571: ConvergenceWarning: Stochastic Optimizer: Maximum iterations (200) reached and the optimization hasn't converged yet.\n",
            "  % self.max_iter, ConvergenceWarning)\n"
          ],
          "name": "stderr"
        }
      ]
    },
    {
      "cell_type": "code",
      "metadata": {
        "colab": {
          "base_uri": "https://localhost:8080/"
        },
        "id": "YLSfcX0ZFU-A",
        "outputId": "62a1590b-2709-48f8-8a74-0f73784e5964"
      },
      "source": [
        "print(score.mean())"
      ],
      "execution_count": null,
      "outputs": [
        {
          "output_type": "stream",
          "text": [
            "0.9913827189759393\n"
          ],
          "name": "stdout"
        }
      ]
    },
    {
      "cell_type": "markdown",
      "metadata": {
        "id": "p8qaM9l9TVYs"
      },
      "source": [
        "###Hyper Parameter (Grid Search)\n",
        "* จากค่า accuracy ของ Logistic Regression Model นั้นมีค่าน้อยที่สุด จึงนำมาปรับ Parameter\n",
        "---\n",
        "\n"
      ]
    },
    {
      "cell_type": "code",
      "metadata": {
        "id": "hqoEGVILTcd1"
      },
      "source": [
        "#import library\n",
        "from sklearn.model_selection import GridSearchCV\n",
        "\n",
        "#สร้าง Array param_range ที่เก็บตัวเลขในการปรับ C\n",
        "param_range=[0.0001,0.001,0.01,0.1,1.0,10.0,100.0,1000.0]\n",
        "\n",
        "#สร้าง Array param_solver1 ที่เก็บค่าในการปรับ solver\n",
        "param_solver1=['newton-cg', 'lbfgs', 'sag', 'saga']\n",
        "\n",
        "#สร้าง Array param_solver2 ที่เก็บค่าในการปรับ solver\n",
        "param_solver2=['liblinear', 'saga']\n",
        "\n",
        "#สร้าง Array param_grid ที่เก็บ parameter ที่จะนำไปปรับ param_grid\n",
        "param_grid = [{'lr__C':param_range,\n",
        "               'lr__penalty':['l2'],\n",
        "               'lr__solver':param_solver1},\n",
        "              {'lr__C':param_range,\n",
        "               'lr__penalty':['l1'],\n",
        "               'lr__solver':param_solver2}]\n",
        "\n",
        "#นำ GridSearchCV มาปรับ model_lr โดยได้เป็น model ใหม่ชื่อ gs_lr\n",
        "gs_lr=GridSearchCV(estimator=model_lr,\n",
        "                param_grid=param_grid,\n",
        "                scoring='accuracy') #default cv = 5"
      ],
      "execution_count": null,
      "outputs": []
    },
    {
      "cell_type": "code",
      "metadata": {
        "id": "0C-xmbezXrrp"
      },
      "source": [
        "#ฝึก gs_lr ด้วยข้อมูล train\n",
        "gs_lr=gs_lr.fit(X_train,y_train)"
      ],
      "execution_count": null,
      "outputs": []
    },
    {
      "cell_type": "code",
      "metadata": {
        "colab": {
          "base_uri": "https://localhost:8080/"
        },
        "id": "Ji3XzYguX2s8",
        "outputId": "6ecc66b1-29fd-4178-fc9e-63a63640164c"
      },
      "source": [
        "#ดู best score ของ gs_lr\n",
        "gs_lr.best_score_"
      ],
      "execution_count": null,
      "outputs": [
        {
          "output_type": "execute_result",
          "data": {
            "text/plain": [
              "0.9124487475572925"
            ]
          },
          "metadata": {
            "tags": []
          },
          "execution_count": 188
        }
      ]
    },
    {
      "cell_type": "code",
      "metadata": {
        "colab": {
          "base_uri": "https://localhost:8080/"
        },
        "id": "G_dWsAHDcBXq",
        "outputId": "3c85041d-269e-41f9-d704-7a8d20db1ecc"
      },
      "source": [
        "#ดู parameter ที่ gs_lr ปรับมาแล้ว\n",
        "gs_lr.best_params_"
      ],
      "execution_count": null,
      "outputs": [
        {
          "output_type": "execute_result",
          "data": {
            "text/plain": [
              "{'lr__C': 0.01, 'lr__penalty': 'l1', 'lr__solver': 'saga'}"
            ]
          },
          "metadata": {
            "tags": []
          },
          "execution_count": 189
        }
      ]
    },
    {
      "cell_type": "code",
      "metadata": {
        "id": "qxyzScTuX4LU"
      },
      "source": [
        "#นำ model ที่ดีที่สุดจากการปรับ Parameter มาเก็บเป็น model ใหม่ชื่อ best_model_gs_lr\n",
        "#โดยสามารถนำ best_model_gs_lr ไปใช้ทำนายได้เลย\n",
        "best_model_gs_lr = gs_lr.best_estimator_"
      ],
      "execution_count": null,
      "outputs": []
    },
    {
      "cell_type": "code",
      "metadata": {
        "id": "8DeDgZYcX6wx",
        "colab": {
          "base_uri": "https://localhost:8080/"
        },
        "outputId": "f0636961-a035-4bfe-906a-cecd86f5a998"
      },
      "source": [
        "#ดู score จากการทำนายของ model\n",
        "best_model.score(X_test,y_test)"
      ],
      "execution_count": null,
      "outputs": [
        {
          "output_type": "execute_result",
          "data": {
            "text/plain": [
              "0.916923076923077"
            ]
          },
          "metadata": {
            "tags": []
          },
          "execution_count": 191
        }
      ]
    },
    {
      "cell_type": "markdown",
      "metadata": {
        "id": "4OsYkkPr9Q5d"
      },
      "source": [
        "* จาก Model Pipeline ของ Logistic Regression Model นั้นมี default parameter ดังนี้ C: 1.0, penalty: l2, solver: lbfgs\n",
        "* จากคะแนนของ gs_lr ทำให้พบว่า Model แบบ Pipeline ในตอนแรกนั้นดีกว่า จึงไม่ควรต้องปรับอะไร"
      ]
    },
    {
      "cell_type": "markdown",
      "metadata": {
        "id": "ypFiL-8KFJeX"
      },
      "source": [
        "##Save Model\n",
        "* save model เก็บเป็น file ไว้เพื่อจะสามารถนำไป Apply กับ Application ต่างๆได้"
      ]
    },
    {
      "cell_type": "code",
      "metadata": {
        "id": "9O97Q6R8wyeC",
        "colab": {
          "base_uri": "https://localhost:8080/"
        },
        "outputId": "3cdc070c-31f1-4a85-978b-4feef33189e6"
      },
      "source": [
        "#import library\n",
        "from sklearn.externals import joblib"
      ],
      "execution_count": null,
      "outputs": [
        {
          "output_type": "stream",
          "text": [
            "/usr/local/lib/python3.6/dist-packages/sklearn/externals/joblib/__init__.py:15: FutureWarning: sklearn.externals.joblib is deprecated in 0.21 and will be removed in 0.23. Please import this functionality directly from joblib, which can be installed with: pip install joblib. If this warning is raised when loading pickled models, you may need to re-serialize those models with scikit-learn 0.21+.\n",
            "  warnings.warn(msg, category=FutureWarning)\n"
          ],
          "name": "stderr"
        }
      ]
    },
    {
      "cell_type": "code",
      "metadata": {
        "id": "owMMXd_yw3Vi",
        "colab": {
          "base_uri": "https://localhost:8080/"
        },
        "outputId": "fd36d522-1496-46f4-b07f-103237f5ef9b"
      },
      "source": [
        "#เก็บ model Logistic Regression ชื่อ model_lr\n",
        "joblib.dump(model_lr,'model_lr.model')\n",
        "\n",
        "#เก็บ model Decision Tree ชื่อ model_dt\n",
        "joblib.dump(model_dt,'model_dt.model')\n",
        "\n",
        "#เก็บ model Neural Network ชื่อ model_mlp\n",
        "joblib.dump(model_mlp,'model_mlp.model')\n",
        "\n",
        "#เก็บ model Support Vector Machine ชื่อ model_svc\n",
        "joblib.dump(model_svc,'model_svc.model')"
      ],
      "execution_count": null,
      "outputs": [
        {
          "output_type": "execute_result",
          "data": {
            "text/plain": [
              "['model_svc.model']"
            ]
          },
          "metadata": {
            "tags": []
          },
          "execution_count": 193
        }
      ]
    },
    {
      "cell_type": "markdown",
      "metadata": {
        "id": "kFDBOrBcIzBn"
      },
      "source": [
        "##Load Model\n",
        "* สามารถดาวน์โหลด Model ที่เก็บไว้มาใช้ได้แบบนี้ค่ะ"
      ]
    },
    {
      "cell_type": "code",
      "metadata": {
        "id": "dJ4820PxI2bH",
        "colab": {
          "base_uri": "https://localhost:8080/"
        },
        "outputId": "57f123c8-ea8e-4725-c232-2eb89f92dc4d"
      },
      "source": [
        "#โหลด model_lr มาใส่ตัวแปร model_lr_load\n",
        "model_lr_load=joblib.load('model_lr.model')\n",
        "\n",
        "#นำ model_lr_load มาทำนาย\n",
        "y_predict_lr_form_load=model_lr_load.predict(X)\n",
        "\n",
        "#ดูผลการทำนาย\n",
        "y_predict_lr_form_load"
      ],
      "execution_count": null,
      "outputs": [
        {
          "output_type": "execute_result",
          "data": {
            "text/plain": [
              "array([1, 0, 0, ..., 0, 1, 0])"
            ]
          },
          "metadata": {
            "tags": []
          },
          "execution_count": 196
        }
      ]
    }
  ]
}